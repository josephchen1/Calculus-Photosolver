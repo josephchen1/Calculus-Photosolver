{
  "nbformat": 4,
  "nbformat_minor": 0,
  "metadata": {
    "colab": {
      "name": "digit_identification.ipynb",
      "provenance": [],
      "collapsed_sections": [],
      "toc_visible": true
    },
    "kernelspec": {
      "name": "python3",
      "display_name": "Python 3"
    },
    "accelerator": "GPU"
  },
  "cells": [
    {
      "cell_type": "markdown",
      "metadata": {
        "id": "H1UrmprtGYtu",
        "colab_type": "text"
      },
      "source": [
        "<br/>\n",
        "\n",
        "### Importing Libraries\n",
        "\n",
        "<br/>"
      ]
    },
    {
      "cell_type": "code",
      "metadata": {
        "id": "kjElev9H1mnd",
        "colab_type": "code",
        "colab": {}
      },
      "source": [
        "# Import Framework\n",
        "import tensorflow as tf\n",
        "from tensorflow.keras import Sequential\n",
        "from tensorflow.keras.layers import Conv2D, MaxPool2D, Dense, Flatten, Dropout\n",
        "\n",
        "# Import Libraries\n",
        "import numpy as np\n",
        "import pandas as pd\n",
        "import matplotlib.pyplot as plt\n",
        "\n",
        "# Import mnist Dataset\n",
        "from tensorflow.keras.datasets import mnist"
      ],
      "execution_count": 0,
      "outputs": []
    },
    {
      "cell_type": "markdown",
      "metadata": {
        "id": "HKPA6BGOGmKk",
        "colab_type": "text"
      },
      "source": [
        "<br/>\n",
        "\n",
        "### Testing/Understanding the Dataset\n",
        "\n",
        "<br/>"
      ]
    },
    {
      "cell_type": "code",
      "metadata": {
        "id": "lGO6rzTVEI8-",
        "colab_type": "code",
        "outputId": "e0849bb9-1f25-483e-a2c9-7d0a820921d0",
        "colab": {
          "base_uri": "https://localhost:8080/",
          "height": 53
        }
      },
      "source": [
        "# Loading the Dataset from mnist\n",
        "(X_train, X_test), (y_train, y_test) = mnist.load_data()"
      ],
      "execution_count": 0,
      "outputs": [
        {
          "output_type": "stream",
          "text": [
            "Downloading data from https://storage.googleapis.com/tensorflow/tf-keras-datasets/mnist.npz\n",
            "11493376/11490434 [==============================] - 0s 0us/step\n"
          ],
          "name": "stdout"
        }
      ]
    },
    {
      "cell_type": "code",
      "metadata": {
        "id": "mo_vQgfhEbwX",
        "colab_type": "code",
        "outputId": "82e5d888-d21d-435a-ebc3-213b1c5311e6",
        "colab": {
          "base_uri": "https://localhost:8080/",
          "height": 283
        }
      },
      "source": [
        "# Showing 4rd Image in Training Set\n",
        "plt.imshow(X_train[3])"
      ],
      "execution_count": 0,
      "outputs": [
        {
          "output_type": "execute_result",
          "data": {
            "text/plain": [
              "<matplotlib.image.AxesImage at 0x7f757e9b51d0>"
            ]
          },
          "metadata": {
            "tags": []
          },
          "execution_count": 3
        },
        {
          "output_type": "display_data",
          "data": {
            "image/png": "[encoded data removed]",
            "text/plain": [
              "<Figure size 432x288 with 1 Axes>"
            ]
          },
          "metadata": {
            "tags": []
          }
        }
      ]
    },
    {
      "cell_type": "code",
      "metadata": {
        "id": "9z1C4VEhHZ6r",
        "colab_type": "code",
        "colab": {}
      },
      "source": [
        "# Normalizing the Dataset\n",
        "X_train = X_train / 255\n",
        "y_train = y_train / 255\n",
        "\n",
        "# Vectorizing the Dataset\n",
        "X_train = X_train.reshape(60000, 28, 28, 1)\n",
        "y_train = y_train.reshape(10000, 28, 28, 1)"
      ],
      "execution_count": 0,
      "outputs": []
    },
    {
      "cell_type": "markdown",
      "metadata": {
        "id": "OkJCZa1cR0Rl",
        "colab_type": "text"
      },
      "source": [
        "<br/>\n",
        "\n",
        "### Building the Model\n",
        "\n",
        "<br/>"
      ]
    },
    {
      "cell_type": "code",
      "metadata": {
        "id": "WGMyRW1XIB8V",
        "colab_type": "code",
        "colab": {}
      },
      "source": [
        "# Building the Model\n",
        "\n",
        "model = Sequential()\n",
        "model.add(Conv2D(filters = 32, kernel_size = (3, 3), activation = 'relu', input_shape = (28, 28, 1)))\n",
        "model.add(Conv2D(64, (3, 3), activation = 'relu'))\n",
        "model.add(MaxPool2D(2,2))\n",
        "model.add(Dropout(0.25))\n",
        "model.add(Flatten())\n",
        "model.add(Dense(128, activation = 'relu'))\n",
        "model.add(Dropout(0.5))\n",
        "model.add(Dense(10, activation = 'softmax'))"
      ],
      "execution_count": 0,
      "outputs": []
    },
    {
      "cell_type": "code",
      "metadata": {
        "id": "S6taB1kXI4M8",
        "colab_type": "code",
        "outputId": "2c040417-8830-4a48-ba9f-ec79e490f95c",
        "colab": {
          "base_uri": "https://localhost:8080/",
          "height": 449
        }
      },
      "source": [
        "# Show model summary\n",
        "model.summary()"
      ],
      "execution_count": 0,
      "outputs": [
        {
          "output_type": "stream",
          "text": [
            "Model: \"sequential\"\n",
            "_________________________________________________________________\n",
            "Layer (type)                 Output Shape              Param #   \n",
            "=================================================================\n",
            "conv2d (Conv2D)              (None, 26, 26, 32)        320       \n",
            "_________________________________________________________________\n",
            "conv2d_1 (Conv2D)            (None, 24, 24, 64)        18496     \n",
            "_________________________________________________________________\n",
            "max_pooling2d (MaxPooling2D) (None, 12, 12, 64)        0         \n",
            "_________________________________________________________________\n",
            "dropout (Dropout)            (None, 12, 12, 64)        0         \n",
            "_________________________________________________________________\n",
            "flatten (Flatten)            (None, 9216)              0         \n",
            "_________________________________________________________________\n",
            "dense (Dense)                (None, 128)               1179776   \n",
            "_________________________________________________________________\n",
            "dropout_1 (Dropout)          (None, 128)               0         \n",
            "_________________________________________________________________\n",
            "dense_1 (Dense)              (None, 10)                1290      \n",
            "=================================================================\n",
            "Total params: 1,199,882\n",
            "Trainable params: 1,199,882\n",
            "Non-trainable params: 0\n",
            "_________________________________________________________________\n"
          ],
          "name": "stdout"
        }
      ]
    },
    {
      "cell_type": "code",
      "metadata": {
        "id": "rH2hO72kLKHO",
        "colab_type": "code",
        "colab": {}
      },
      "source": [
        "# Defining Optimization, Loss Function, and Metrics of the Model\n",
        "model.compile(loss = 'sparse_categorical_crossentropy', optimizer = 'adam', metrics = ['accuracy'])"
      ],
      "execution_count": 0,
      "outputs": []
    },
    {
      "cell_type": "markdown",
      "metadata": {
        "id": "JBg7AGwWRnba",
        "colab_type": "text"
      },
      "source": [
        "<br/>\n",
        "\n",
        "### Training the Model\n",
        "\n",
        "<br/>"
      ]
    },
    {
      "cell_type": "code",
      "metadata": {
        "id": "TZRtRgjBMJo6",
        "colab_type": "code",
        "outputId": "495988f0-67a0-421f-ea9d-4e7287668f69",
        "colab": {
          "base_uri": "https://localhost:8080/",
          "height": 1000
        }
      },
      "source": [
        "# Training the Model using the Training and Test Data\n",
        "history = model.fit(X_train, X_test, batch_size = 128, epochs = 30, verbose = 1, validation_data = (y_train, y_test))"
      ],
      "execution_count": 0,
      "outputs": [
        {
          "output_type": "stream",
          "text": [
            "Epoch 1/30\n",
            "469/469 [==============================] - 3s 6ms/step - loss: 0.0068 - accuracy: 0.9979 - val_loss: 0.0361 - val_accuracy: 0.9935\n",
            "Epoch 2/30\n",
            "469/469 [==============================] - 3s 6ms/step - loss: 0.0071 - accuracy: 0.9977 - val_loss: 0.0329 - val_accuracy: 0.9930\n",
            "Epoch 3/30\n",
            "469/469 [==============================] - 3s 6ms/step - loss: 0.0079 - accuracy: 0.9974 - val_loss: 0.0358 - val_accuracy: 0.9932\n",
            "Epoch 4/30\n",
            "469/469 [==============================] - 3s 6ms/step - loss: 0.0068 - accuracy: 0.9976 - val_loss: 0.0357 - val_accuracy: 0.9937\n",
            "Epoch 5/30\n",
            "469/469 [==============================] - 3s 6ms/step - loss: 0.0069 - accuracy: 0.9975 - val_loss: 0.0448 - val_accuracy: 0.9926\n",
            "Epoch 6/30\n",
            "469/469 [==============================] - 3s 6ms/step - loss: 0.0060 - accuracy: 0.9980 - val_loss: 0.0422 - val_accuracy: 0.9931\n",
            "Epoch 7/30\n",
            "469/469 [==============================] - 3s 6ms/step - loss: 0.0070 - accuracy: 0.9977 - val_loss: 0.0436 - val_accuracy: 0.9923\n",
            "Epoch 8/30\n",
            "469/469 [==============================] - 3s 6ms/step - loss: 0.0064 - accuracy: 0.9979 - val_loss: 0.0462 - val_accuracy: 0.9925\n",
            "Epoch 9/30\n",
            "469/469 [==============================] - 3s 6ms/step - loss: 0.0059 - accuracy: 0.9980 - val_loss: 0.0404 - val_accuracy: 0.9936\n",
            "Epoch 10/30\n",
            "469/469 [==============================] - 3s 6ms/step - loss: 0.0057 - accuracy: 0.9980 - val_loss: 0.0386 - val_accuracy: 0.9930\n",
            "Epoch 11/30\n",
            "469/469 [==============================] - 3s 6ms/step - loss: 0.0072 - accuracy: 0.9977 - val_loss: 0.0432 - val_accuracy: 0.9919\n",
            "Epoch 12/30\n",
            "469/469 [==============================] - 3s 6ms/step - loss: 0.0051 - accuracy: 0.9983 - val_loss: 0.0401 - val_accuracy: 0.9939\n",
            "Epoch 13/30\n",
            "469/469 [==============================] - 3s 6ms/step - loss: 0.0045 - accuracy: 0.9986 - val_loss: 0.0443 - val_accuracy: 0.9933\n",
            "Epoch 14/30\n",
            "469/469 [==============================] - 3s 6ms/step - loss: 0.0056 - accuracy: 0.9980 - val_loss: 0.0424 - val_accuracy: 0.9934\n",
            "Epoch 15/30\n",
            "469/469 [==============================] - 3s 6ms/step - loss: 0.0060 - accuracy: 0.9981 - val_loss: 0.0416 - val_accuracy: 0.9930\n",
            "Epoch 16/30\n",
            "469/469 [==============================] - 3s 6ms/step - loss: 0.0060 - accuracy: 0.9982 - val_loss: 0.0445 - val_accuracy: 0.9934\n",
            "Epoch 17/30\n",
            "469/469 [==============================] - 3s 6ms/step - loss: 0.0054 - accuracy: 0.9983 - val_loss: 0.0436 - val_accuracy: 0.9930\n",
            "Epoch 18/30\n",
            "469/469 [==============================] - 3s 6ms/step - loss: 0.0046 - accuracy: 0.9983 - val_loss: 0.0478 - val_accuracy: 0.9930\n",
            "Epoch 19/30\n",
            "469/469 [==============================] - 3s 6ms/step - loss: 0.0067 - accuracy: 0.9977 - val_loss: 0.0532 - val_accuracy: 0.9928\n",
            "Epoch 20/30\n",
            "469/469 [==============================] - 3s 6ms/step - loss: 0.0063 - accuracy: 0.9979 - val_loss: 0.0400 - val_accuracy: 0.9936\n",
            "Epoch 21/30\n",
            "469/469 [==============================] - 3s 6ms/step - loss: 0.0054 - accuracy: 0.9983 - val_loss: 0.0415 - val_accuracy: 0.9937\n",
            "Epoch 22/30\n",
            "469/469 [==============================] - 3s 6ms/step - loss: 0.0049 - accuracy: 0.9981 - val_loss: 0.0448 - val_accuracy: 0.9933\n",
            "Epoch 23/30\n",
            "469/469 [==============================] - 3s 6ms/step - loss: 0.0054 - accuracy: 0.9982 - val_loss: 0.0429 - val_accuracy: 0.9935\n",
            "Epoch 24/30\n",
            "469/469 [==============================] - 3s 6ms/step - loss: 0.0054 - accuracy: 0.9983 - val_loss: 0.0456 - val_accuracy: 0.9926\n",
            "Epoch 25/30\n",
            "469/469 [==============================] - 3s 6ms/step - loss: 0.0057 - accuracy: 0.9984 - val_loss: 0.0383 - val_accuracy: 0.9939\n",
            "Epoch 26/30\n",
            "469/469 [==============================] - 3s 6ms/step - loss: 0.0053 - accuracy: 0.9984 - val_loss: 0.0428 - val_accuracy: 0.9929\n",
            "Epoch 27/30\n",
            "469/469 [==============================] - 3s 6ms/step - loss: 0.0053 - accuracy: 0.9983 - val_loss: 0.0421 - val_accuracy: 0.9932\n",
            "Epoch 28/30\n",
            "469/469 [==============================] - 3s 6ms/step - loss: 0.0049 - accuracy: 0.9985 - val_loss: 0.0478 - val_accuracy: 0.9921\n",
            "Epoch 29/30\n",
            "469/469 [==============================] - 3s 6ms/step - loss: 0.0048 - accuracy: 0.9984 - val_loss: 0.0491 - val_accuracy: 0.9928\n",
            "Epoch 30/30\n",
            "469/469 [==============================] - 3s 6ms/step - loss: 0.0054 - accuracy: 0.9983 - val_loss: 0.0415 - val_accuracy: 0.9935\n"
          ],
          "name": "stdout"
        }
      ]
    },
    {
      "cell_type": "markdown",
      "metadata": {
        "id": "8LZj3cFfRr9D",
        "colab_type": "text"
      },
      "source": [
        "<br/>\n",
        "\n",
        "### Testing the Model\n",
        "\n",
        "<br/>"
      ]
    },
    {
      "cell_type": "code",
      "metadata": {
        "id": "v835uCWNNY2E",
        "colab_type": "code",
        "outputId": "df396a9c-870c-4f0b-dc4d-77c08675b004",
        "colab": {
          "base_uri": "https://localhost:8080/",
          "height": 283
        }
      },
      "source": [
        "# Showing 1st Image in Training Set to test the Model\n",
        "plt.imshow(X_train[0])"
      ],
      "execution_count": 0,
      "outputs": [
        {
          "output_type": "execute_result",
          "data": {
            "text/plain": [
              "<matplotlib.image.AxesImage at 0x7f75704278d0>"
            ]
          },
          "metadata": {
            "tags": []
          },
          "execution_count": 12
        },
        {
          "output_type": "display_data",
          "data": {
            "image/png": "[encoded data removed]",
            "text/plain": [
              "<Figure size 432x288 with 1 Axes>"
            ]
          },
          "metadata": {
            "tags": []
          }
        }
      ]
    },
    {
      "cell_type": "code",
      "metadata": {
        "id": "jt_IEC7zPDno",
        "colab_type": "code",
        "colab": {}
      },
      "source": [
        "# Predicting the outcome of the 1st Image in Training Set\n",
        "predictions = model.predict(X_train)\n",
        "np.argmax(predictions[0])"
      ],
      "execution_count": 0,
      "outputs": []
    },
    {
      "cell_type": "markdown",
      "metadata": {
        "id": "bHbZ21GsRuX4",
        "colab_type": "text"
      },
      "source": [
        "<br/>\n",
        "\n",
        "### Saving the Model\n",
        "\n",
        "<br/>"
      ]
    },
    {
      "cell_type": "code",
      "metadata": {
        "id": "OzqKbfRKQaOx",
        "colab_type": "code",
        "outputId": "baa27e85-0223-4755-cdb1-caec3f9bb591",
        "colab": {
          "base_uri": "https://localhost:8080/",
          "height": 109
        }
      },
      "source": [
        "# Saving the Model\n",
        "!mkdir -p saved_model\n",
        "model.save('saved_model/my_model') "
      ],
      "execution_count": 0,
      "outputs": [
        {
          "output_type": "stream",
          "text": [
            "WARNING:tensorflow:From /usr/local/lib/python3.6/dist-packages/tensorflow/python/ops/resource_variable_ops.py:1817: calling BaseResourceVariable.__init__ (from tensorflow.python.ops.resource_variable_ops) with constraint is deprecated and will be removed in a future version.\n",
            "Instructions for updating:\n",
            "If using Keras pass *_constraint arguments to layers.\n",
            "INFO:tensorflow:Assets written to: saved_model/my_model/assets\n"
          ],
          "name": "stdout"
        }
      ]
    }
  ]
}